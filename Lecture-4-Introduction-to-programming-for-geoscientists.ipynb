{
 "cells": [
  {
   "cell_type": "markdown",
   "metadata": {
    "slideshow": {
     "slide_type": "slide"
    }
   },
   "source": [
    "# Introduction to programming for Geoscientists\n",
    "### [Gerard Gorman](http://www.imperial.ac.uk/people/g.gorman)\n",
    "\n",
    "# Lecture 4: Input data and error handling"
   ]
  },
  {
   "cell_type": "markdown",
   "metadata": {
    "slideshow": {
     "slide_type": "slide"
    }
   },
   "source": [
    "Learning objectives:\n",
    "\n",
    "* You will know how to implement basic interactive programs that take user input.\n",
    "* Be able to catch run-time errors and handle them gracefully rather than the program simply failing."
   ]
  },
  {
   "cell_type": "markdown",
   "metadata": {
    "slideshow": {
     "slide_type": "slide"
    }
   },
   "source": [
    "## Hardcoded input\n",
    "\n",
    "Up to now you have only **hardcoded** input for your programs, i.e."
   ]
  },
  {
   "cell_type": "code",
   "execution_count": 1,
   "metadata": {
    "collapsed": true,
    "slideshow": {
     "slide_type": "fragment"
    }
   },
   "outputs": [],
   "source": [
    "v0 = 5    # Hardcoded value\n",
    "g = 9.81  # Hardcoded value\n",
    "t = 0.6   # Hardcoded value\n",
    "y = v0*t - 0.5*g*t**2"
   ]
  },
  {
   "cell_type": "markdown",
   "metadata": {
    "slideshow": {
     "slide_type": "fragment"
    }
   },
   "source": [
    "While hardcoding values for variables such as $g$ might be fine if you are not planning to throw the ball on another planet, the initial velocity and time are values that a user would like to specify without having to edit the code (which would be both tedious and error-prone)."
   ]
  },
  {
   "cell_type": "markdown",
   "metadata": {
    "slideshow": {
     "slide_type": "slide"
    }
   },
   "source": [
    "## Interactive user input\n",
    "\n",
    "There are a wide variety of ways of getting input from the user. In this case we are going to we are going to focus using the package ipywidgets to get user input via a simple text box. Let's recycle our temperature conversion example to illustrate how we use it; this time taking the Celsius value from the user input:"
   ]
  },
  {
   "cell_type": "code",
   "execution_count": 15,
   "metadata": {
    "slideshow": {
     "slide_type": "fragment"
    }
   },
   "outputs": [
    {
     "data": {
      "application/vnd.jupyter.widget-view+json": {
       "model_id": "76f9aedd9c7c483bb58803f0f1452aa5",
       "version_major": 2,
       "version_minor": 0
      },
      "text/plain": [
       "A Jupyter Widget"
      ]
     },
     "metadata": {},
     "output_type": "display_data"
    }
   ],
   "source": [
    "from ipywidgets import widgets\n",
    "from IPython.display import display\n",
    "\n",
    "def widget_c2f(sender):\n",
    "    C = sender.value # Read the text value; note this is a string\n",
    "    C = float(C)     # Convert this string into a float\n",
    "    print(C, \"degrees Celsius is \", (9/5)*C + 32, \"degrees Fahrenheit\")\n",
    "\n",
    "temp = widgets.Text()\n",
    "temp.on_submit(widget_c2f)\n",
    "display(temp)"
   ]
  },
  {
   "cell_type": "markdown",
   "metadata": {
    "slideshow": {
     "slide_type": "subslide"
    }
   },
   "source": [
    "Another simple example: Print the n first even numbers."
   ]
  },
  {
   "cell_type": "code",
   "execution_count": 8,
   "metadata": {
    "slideshow": {
     "slide_type": "fragment"
    }
   },
   "outputs": [
    {
     "data": {
      "application/vnd.jupyter.widget-view+json": {
       "model_id": "3803b6ce98a943fdaa02fb3f23e5844e",
       "version_major": 2,
       "version_minor": 0
      },
      "text/plain": [
       "A Jupyter Widget"
      ]
     },
     "metadata": {},
     "output_type": "display_data"
    },
    {
     "name": "stdout",
     "output_type": "stream",
     "text": [
      "2\n",
      "4\n",
      "6\n",
      "8\n",
      "10\n",
      "12\n",
      "14\n",
      "16\n"
     ]
    }
   ],
   "source": [
    "def widget_firstn(sender):\n",
    "    n = sender.value # Read the text value; note this is a string.\n",
    "    n = int(n)       # Convert this string into an integer.\n",
    "    for i in range(2, 2*n+1, 2):\n",
    "        print(i)\n",
    "\n",
    "firstn = widgets.Text()\n",
    "firstn.on_submit(widget_firstn)\n",
    "display(firstn)"
   ]
  },
  {
   "cell_type": "markdown",
   "metadata": {
    "slideshow": {
     "slide_type": "slide"
    }
   },
   "source": [
    "# <span style=\"color:blue\">Exercise 4.1: Make an interactive program</span>\n",
    "Make a program that:\n",
    "\n",
    " * asks the user for a temperature in Fahrenheit degrees and reads the number;\n",
    " * computes the corresponding temperature in Celsius degrees;\n",
    " * prints out the temperature in the Celsius scale."
   ]
  },
  {
   "cell_type": "code",
   "execution_count": 3,
   "metadata": {
    "slideshow": {
     "slide_type": "subslide"
    }
   },
   "outputs": [
    {
     "data": {
      "application/vnd.jupyter.widget-view+json": {
       "model_id": "a06006b47455410e84e1f0172632d47d",
       "version_major": 2,
       "version_minor": 0
      },
      "text/plain": [
       "A Jupyter Widget"
      ]
     },
     "metadata": {},
     "output_type": "display_data"
    },
    {
     "name": "stdout",
     "output_type": "stream",
     "text": [
      "40.0 degrees Fahrenheit is  4.444444444444445 degrees Celsius\n",
      "50.0 degrees Fahrenheit is  10.0 degrees Celsius\n",
      "60.0 degrees Fahrenheit is  15.555555555555557 degrees Celsius\n",
      "70.0 degrees Fahrenheit is  21.11111111111111 degrees Celsius\n",
      "80.0 degrees Fahrenheit is  26.666666666666668 degrees Celsius\n",
      "90.0 degrees Fahrenheit is  32.22222222222222 degrees Celsius\n",
      "100.0 degrees Fahrenheit is  37.77777777777778 degrees Celsius\n"
     ]
    }
   ],
   "source": [
    "from ipywidgets import widgets\n",
    "from IPython.display import display\n",
    "\n",
    "def FtoC(sender):\n",
    "    F = sender.value\n",
    "    F = float(F)\n",
    "    print(F, \"degrees Fahrenheit is \", (5/9)*(F-32), \"degrees Celsius\")\n",
    "    \n",
    "widget_FtoC = widgets.Text()\n",
    "widget_FtoC.on_submit(FtoC) \n",
    "display(widget_FtoC)"
   ]
  },
  {
   "cell_type": "markdown",
   "metadata": {
    "slideshow": {
     "slide_type": "slide"
    }
   },
   "source": [
    "## <span style=\"color:blue\">Exercise 4.2: Prompt the user for input to a formula</span>\n",
    "Consider the simplest program for evaluting the formula $y(t) = v_0 t − 0.5gt^2$:"
   ]
  },
  {
   "cell_type": "code",
   "execution_count": 36,
   "metadata": {
    "slideshow": {
     "slide_type": "fragment"
    }
   },
   "outputs": [
    {
     "data": {
      "application/vnd.jupyter.widget-view+json": {
       "model_id": "cc61e488396b4708a6cdf6d6d8faa126",
       "version_major": 2,
       "version_minor": 0
      },
      "text/plain": [
       "A Jupyter Widget"
      ]
     },
     "metadata": {},
     "output_type": "display_data"
    },
    {
     "name": "stdout",
     "output_type": "stream",
     "text": [
      "y is -58.4800 m\n"
     ]
    }
   ],
   "source": [
    "from ipywidgets import widgets\n",
    "from IPython.display import display\n",
    "\n",
    "g = 9.81\n",
    "\n",
    "def y_v0_t(sender):\n",
    "    txt_input = sender.value\n",
    "    t, v0 = txt_input.split(\",\")\n",
    "    v0 = float(v0)\n",
    "    t = float(t)\n",
    "    print(\"y is %.4f\" % (v0*t-0.5*g*t**2), \"m\")\n",
    "\n",
    "widget_y_v0_t = widgets.Text()\n",
    "widget_y_v0_t.on_submit(y_v0_t) \n",
    "display(widget_y_v0_t)\n"
   ]
  },
  {
   "cell_type": "markdown",
   "metadata": {
    "slideshow": {
     "slide_type": "fragment"
    }
   },
   "source": [
    "Modify this code so that the program takes as user input *t* and *v0*, and then computes the corresponding distance traveled, $y$. Note, you can put multiple values into the same text box and then use the string method *split* to break the string value into a list.\n",
    "```python\n",
    "t, v0 = value.split(\",\") # assuming ',' as the delimiter\n",
    "```"
   ]
  },
  {
   "cell_type": "markdown",
   "metadata": {
    "slideshow": {
     "slide_type": "slide"
    }
   },
   "source": [
    "## <span style=\"color:blue\">Exercise 4.3</span>\n",
    "\n",
    "At this point (other than some plotting details that you will meet later) you know enough to write the classic game [Battleship](https://en.wikipedia.org/wiki/Battleship_%28game%29). Rather than start from scratch I have put an example below. Organise yourselves into pairs and:\n",
    "\n",
    "* Play a couple of games.\n",
    "* Write a cheat into the code to reveal where the ship is hiding.\n",
    "* Change the code so that it is on a 13x13 grid.\n",
    "* Rather than having just one ship that is one square in size, make it some random length between 1-6."
   ]
  },
  {
   "cell_type": "code",
   "execution_count": 37,
   "metadata": {
    "slideshow": {
     "slide_type": "slide"
    }
   },
   "outputs": [
    {
     "data": {
      "application/javascript": [
       "/* Put everything inside the global mpl namespace */\n",
       "window.mpl = {};\n",
       "\n",
       "mpl.get_websocket_type = function() {\n",
       "    if (typeof(WebSocket) !== 'undefined') {\n",
       "        return WebSocket;\n",
       "    } else if (typeof(MozWebSocket) !== 'undefined') {\n",
       "        return MozWebSocket;\n",
       "    } else {\n",
       "        alert('Your browser does not have WebSocket support.' +\n",
       "              'Please try Chrome, Safari or Firefox ≥ 6. ' +\n",
       "              'Firefox 4 and 5 are also supported but you ' +\n",
       "              'have to enable WebSockets in about:config.');\n",
       "    };\n",
       "}\n",
       "\n",
       "mpl.figure = function(figure_id, websocket, ondownload, parent_element) {\n",
       "    this.id = figure_id;\n",
       "\n",
       "    this.ws = websocket;\n",
       "\n",
       "    this.supports_binary = (this.ws.binaryType != undefined);\n",
       "\n",
       "    if (!this.supports_binary) {\n",
       "        var warnings = document.getElementById(\"mpl-warnings\");\n",
       "        if (warnings) {\n",
       "            warnings.style.display = 'block';\n",
       "            warnings.textContent = (\n",
       "                \"This browser does not support binary websocket messages. \" +\n",
       "                    \"Performance may be slow.\");\n",
       "        }\n",
       "    }\n",
       "\n",
       "    this.imageObj = new Image();\n",
       "\n",
       "    this.context = undefined;\n",
       "    this.message = undefined;\n",
       "    this.canvas = undefined;\n",
       "    this.rubberband_canvas = undefined;\n",
       "    this.rubberband_context = undefined;\n",
       "    this.format_dropdown = undefined;\n",
       "\n",
       "    this.image_mode = 'full';\n",
       "\n",
       "    this.root = $('<div/>');\n",
       "    this._root_extra_style(this.root)\n",
       "    this.root.attr('style', 'display: inline-block');\n",
       "\n",
       "    $(parent_element).append(this.root);\n",
       "\n",
       "    this._init_header(this);\n",
       "    this._init_canvas(this);\n",
       "    this._init_toolbar(this);\n",
       "\n",
       "    var fig = this;\n",
       "\n",
       "    this.waiting = false;\n",
       "\n",
       "    this.ws.onopen =  function () {\n",
       "            fig.send_message(\"supports_binary\", {value: fig.supports_binary});\n",
       "            fig.send_message(\"send_image_mode\", {});\n",
       "            fig.send_message(\"refresh\", {});\n",
       "        }\n",
       "\n",
       "    this.imageObj.onload = function() {\n",
       "            if (fig.image_mode == 'full') {\n",
       "                // Full images could contain transparency (where diff images\n",
       "                // almost always do), so we need to clear the canvas so that\n",
       "                // there is no ghosting.\n",
       "                fig.context.clearRect(0, 0, fig.canvas.width, fig.canvas.height);\n",
       "            }\n",
       "            fig.context.drawImage(fig.imageObj, 0, 0);\n",
       "        };\n",
       "\n",
       "    this.imageObj.onunload = function() {\n",
       "        this.ws.close();\n",
       "    }\n",
       "\n",
       "    this.ws.onmessage = this._make_on_message_function(this);\n",
       "\n",
       "    this.ondownload = ondownload;\n",
       "}\n",
       "\n",
       "mpl.figure.prototype._init_header = function() {\n",
       "    var titlebar = $(\n",
       "        '<div class=\"ui-dialog-titlebar ui-widget-header ui-corner-all ' +\n",
       "        'ui-helper-clearfix\"/>');\n",
       "    var titletext = $(\n",
       "        '<div class=\"ui-dialog-title\" style=\"width: 100%; ' +\n",
       "        'text-align: center; padding: 3px;\"/>');\n",
       "    titlebar.append(titletext)\n",
       "    this.root.append(titlebar);\n",
       "    this.header = titletext[0];\n",
       "}\n",
       "\n",
       "\n",
       "\n",
       "mpl.figure.prototype._canvas_extra_style = function(canvas_div) {\n",
       "\n",
       "}\n",
       "\n",
       "\n",
       "mpl.figure.prototype._root_extra_style = function(canvas_div) {\n",
       "\n",
       "}\n",
       "\n",
       "mpl.figure.prototype._init_canvas = function() {\n",
       "    var fig = this;\n",
       "\n",
       "    var canvas_div = $('<div/>');\n",
       "\n",
       "    canvas_div.attr('style', 'position: relative; clear: both; outline: 0');\n",
       "\n",
       "    function canvas_keyboard_event(event) {\n",
       "        return fig.key_event(event, event['data']);\n",
       "    }\n",
       "\n",
       "    canvas_div.keydown('key_press', canvas_keyboard_event);\n",
       "    canvas_div.keyup('key_release', canvas_keyboard_event);\n",
       "    this.canvas_div = canvas_div\n",
       "    this._canvas_extra_style(canvas_div)\n",
       "    this.root.append(canvas_div);\n",
       "\n",
       "    var canvas = $('<canvas/>');\n",
       "    canvas.addClass('mpl-canvas');\n",
       "    canvas.attr('style', \"left: 0; top: 0; z-index: 0; outline: 0\")\n",
       "\n",
       "    this.canvas = canvas[0];\n",
       "    this.context = canvas[0].getContext(\"2d\");\n",
       "\n",
       "    var rubberband = $('<canvas/>');\n",
       "    rubberband.attr('style', \"position: absolute; left: 0; top: 0; z-index: 1;\")\n",
       "\n",
       "    var pass_mouse_events = true;\n",
       "\n",
       "    canvas_div.resizable({\n",
       "        start: function(event, ui) {\n",
       "            pass_mouse_events = false;\n",
       "        },\n",
       "        resize: function(event, ui) {\n",
       "            fig.request_resize(ui.size.width, ui.size.height);\n",
       "        },\n",
       "        stop: function(event, ui) {\n",
       "            pass_mouse_events = true;\n",
       "            fig.request_resize(ui.size.width, ui.size.height);\n",
       "        },\n",
       "    });\n",
       "\n",
       "    function mouse_event_fn(event) {\n",
       "        if (pass_mouse_events)\n",
       "            return fig.mouse_event(event, event['data']);\n",
       "    }\n",
       "\n",
       "    rubberband.mousedown('button_press', mouse_event_fn);\n",
       "    rubberband.mouseup('button_release', mouse_event_fn);\n",
       "    // Throttle sequential mouse events to 1 every 20ms.\n",
       "    rubberband.mousemove('motion_notify', mouse_event_fn);\n",
       "\n",
       "    rubberband.mouseenter('figure_enter', mouse_event_fn);\n",
       "    rubberband.mouseleave('figure_leave', mouse_event_fn);\n",
       "\n",
       "    canvas_div.on(\"wheel\", function (event) {\n",
       "        event = event.originalEvent;\n",
       "        event['data'] = 'scroll'\n",
       "        if (event.deltaY < 0) {\n",
       "            event.step = 1;\n",
       "        } else {\n",
       "            event.step = -1;\n",
       "        }\n",
       "        mouse_event_fn(event);\n",
       "    });\n",
       "\n",
       "    canvas_div.append(canvas);\n",
       "    canvas_div.append(rubberband);\n",
       "\n",
       "    this.rubberband = rubberband;\n",
       "    this.rubberband_canvas = rubberband[0];\n",
       "    this.rubberband_context = rubberband[0].getContext(\"2d\");\n",
       "    this.rubberband_context.strokeStyle = \"#000000\";\n",
       "\n",
       "    this._resize_canvas = function(width, height) {\n",
       "        // Keep the size of the canvas, canvas container, and rubber band\n",
       "        // canvas in synch.\n",
       "        canvas_div.css('width', width)\n",
       "        canvas_div.css('height', height)\n",
       "\n",
       "        canvas.attr('width', width);\n",
       "        canvas.attr('height', height);\n",
       "\n",
       "        rubberband.attr('width', width);\n",
       "        rubberband.attr('height', height);\n",
       "    }\n",
       "\n",
       "    // Set the figure to an initial 600x600px, this will subsequently be updated\n",
       "    // upon first draw.\n",
       "    this._resize_canvas(600, 600);\n",
       "\n",
       "    // Disable right mouse context menu.\n",
       "    $(this.rubberband_canvas).bind(\"contextmenu\",function(e){\n",
       "        return false;\n",
       "    });\n",
       "\n",
       "    function set_focus () {\n",
       "        canvas.focus();\n",
       "        canvas_div.focus();\n",
       "    }\n",
       "\n",
       "    window.setTimeout(set_focus, 100);\n",
       "}\n",
       "\n",
       "mpl.figure.prototype._init_toolbar = function() {\n",
       "    var fig = this;\n",
       "\n",
       "    var nav_element = $('<div/>')\n",
       "    nav_element.attr('style', 'width: 100%');\n",
       "    this.root.append(nav_element);\n",
       "\n",
       "    // Define a callback function for later on.\n",
       "    function toolbar_event(event) {\n",
       "        return fig.toolbar_button_onclick(event['data']);\n",
       "    }\n",
       "    function toolbar_mouse_event(event) {\n",
       "        return fig.toolbar_button_onmouseover(event['data']);\n",
       "    }\n",
       "\n",
       "    for(var toolbar_ind in mpl.toolbar_items) {\n",
       "        var name = mpl.toolbar_items[toolbar_ind][0];\n",
       "        var tooltip = mpl.toolbar_items[toolbar_ind][1];\n",
       "        var image = mpl.toolbar_items[toolbar_ind][2];\n",
       "        var method_name = mpl.toolbar_items[toolbar_ind][3];\n",
       "\n",
       "        if (!name) {\n",
       "            // put a spacer in here.\n",
       "            continue;\n",
       "        }\n",
       "        var button = $('<button/>');\n",
       "        button.addClass('ui-button ui-widget ui-state-default ui-corner-all ' +\n",
       "                        'ui-button-icon-only');\n",
       "        button.attr('role', 'button');\n",
       "        button.attr('aria-disabled', 'false');\n",
       "        button.click(method_name, toolbar_event);\n",
       "        button.mouseover(tooltip, toolbar_mouse_event);\n",
       "\n",
       "        var icon_img = $('<span/>');\n",
       "        icon_img.addClass('ui-button-icon-primary ui-icon');\n",
       "        icon_img.addClass(image);\n",
       "        icon_img.addClass('ui-corner-all');\n",
       "\n",
       "        var tooltip_span = $('<span/>');\n",
       "        tooltip_span.addClass('ui-button-text');\n",
       "        tooltip_span.html(tooltip);\n",
       "\n",
       "        button.append(icon_img);\n",
       "        button.append(tooltip_span);\n",
       "\n",
       "        nav_element.append(button);\n",
       "    }\n",
       "\n",
       "    var fmt_picker_span = $('<span/>');\n",
       "\n",
       "    var fmt_picker = $('<select/>');\n",
       "    fmt_picker.addClass('mpl-toolbar-option ui-widget ui-widget-content');\n",
       "    fmt_picker_span.append(fmt_picker);\n",
       "    nav_element.append(fmt_picker_span);\n",
       "    this.format_dropdown = fmt_picker[0];\n",
       "\n",
       "    for (var ind in mpl.extensions) {\n",
       "        var fmt = mpl.extensions[ind];\n",
       "        var option = $(\n",
       "            '<option/>', {selected: fmt === mpl.default_extension}).html(fmt);\n",
       "        fmt_picker.append(option)\n",
       "    }\n",
       "\n",
       "    // Add hover states to the ui-buttons\n",
       "    $( \".ui-button\" ).hover(\n",
       "        function() { $(this).addClass(\"ui-state-hover\");},\n",
       "        function() { $(this).removeClass(\"ui-state-hover\");}\n",
       "    );\n",
       "\n",
       "    var status_bar = $('<span class=\"mpl-message\"/>');\n",
       "    nav_element.append(status_bar);\n",
       "    this.message = status_bar[0];\n",
       "}\n",
       "\n",
       "mpl.figure.prototype.request_resize = function(x_pixels, y_pixels) {\n",
       "    // Request matplotlib to resize the figure. Matplotlib will then trigger a resize in the client,\n",
       "    // which will in turn request a refresh of the image.\n",
       "    this.send_message('resize', {'width': x_pixels, 'height': y_pixels});\n",
       "}\n",
       "\n",
       "mpl.figure.prototype.send_message = function(type, properties) {\n",
       "    properties['type'] = type;\n",
       "    properties['figure_id'] = this.id;\n",
       "    this.ws.send(JSON.stringify(properties));\n",
       "}\n",
       "\n",
       "mpl.figure.prototype.send_draw_message = function() {\n",
       "    if (!this.waiting) {\n",
       "        this.waiting = true;\n",
       "        this.ws.send(JSON.stringify({type: \"draw\", figure_id: this.id}));\n",
       "    }\n",
       "}\n",
       "\n",
       "\n",
       "mpl.figure.prototype.handle_save = function(fig, msg) {\n",
       "    var format_dropdown = fig.format_dropdown;\n",
       "    var format = format_dropdown.options[format_dropdown.selectedIndex].value;\n",
       "    fig.ondownload(fig, format);\n",
       "}\n",
       "\n",
       "\n",
       "mpl.figure.prototype.handle_resize = function(fig, msg) {\n",
       "    var size = msg['size'];\n",
       "    if (size[0] != fig.canvas.width || size[1] != fig.canvas.height) {\n",
       "        fig._resize_canvas(size[0], size[1]);\n",
       "        fig.send_message(\"refresh\", {});\n",
       "    };\n",
       "}\n",
       "\n",
       "mpl.figure.prototype.handle_rubberband = function(fig, msg) {\n",
       "    var x0 = msg['x0'];\n",
       "    var y0 = fig.canvas.height - msg['y0'];\n",
       "    var x1 = msg['x1'];\n",
       "    var y1 = fig.canvas.height - msg['y1'];\n",
       "    x0 = Math.floor(x0) + 0.5;\n",
       "    y0 = Math.floor(y0) + 0.5;\n",
       "    x1 = Math.floor(x1) + 0.5;\n",
       "    y1 = Math.floor(y1) + 0.5;\n",
       "    var min_x = Math.min(x0, x1);\n",
       "    var min_y = Math.min(y0, y1);\n",
       "    var width = Math.abs(x1 - x0);\n",
       "    var height = Math.abs(y1 - y0);\n",
       "\n",
       "    fig.rubberband_context.clearRect(\n",
       "        0, 0, fig.canvas.width, fig.canvas.height);\n",
       "\n",
       "    fig.rubberband_context.strokeRect(min_x, min_y, width, height);\n",
       "}\n",
       "\n",
       "mpl.figure.prototype.handle_figure_label = function(fig, msg) {\n",
       "    // Updates the figure title.\n",
       "    fig.header.textContent = msg['label'];\n",
       "}\n",
       "\n",
       "mpl.figure.prototype.handle_cursor = function(fig, msg) {\n",
       "    var cursor = msg['cursor'];\n",
       "    switch(cursor)\n",
       "    {\n",
       "    case 0:\n",
       "        cursor = 'pointer';\n",
       "        break;\n",
       "    case 1:\n",
       "        cursor = 'default';\n",
       "        break;\n",
       "    case 2:\n",
       "        cursor = 'crosshair';\n",
       "        break;\n",
       "    case 3:\n",
       "        cursor = 'move';\n",
       "        break;\n",
       "    }\n",
       "    fig.rubberband_canvas.style.cursor = cursor;\n",
       "}\n",
       "\n",
       "mpl.figure.prototype.handle_message = function(fig, msg) {\n",
       "    fig.message.textContent = msg['message'];\n",
       "}\n",
       "\n",
       "mpl.figure.prototype.handle_draw = function(fig, msg) {\n",
       "    // Request the server to send over a new figure.\n",
       "    fig.send_draw_message();\n",
       "}\n",
       "\n",
       "mpl.figure.prototype.handle_image_mode = function(fig, msg) {\n",
       "    fig.image_mode = msg['mode'];\n",
       "}\n",
       "\n",
       "mpl.figure.prototype.updated_canvas_event = function() {\n",
       "    // Called whenever the canvas gets updated.\n",
       "    this.send_message(\"ack\", {});\n",
       "}\n",
       "\n",
       "// A function to construct a web socket function for onmessage handling.\n",
       "// Called in the figure constructor.\n",
       "mpl.figure.prototype._make_on_message_function = function(fig) {\n",
       "    return function socket_on_message(evt) {\n",
       "        if (evt.data instanceof Blob) {\n",
       "            /* FIXME: We get \"Resource interpreted as Image but\n",
       "             * transferred with MIME type text/plain:\" errors on\n",
       "             * Chrome.  But how to set the MIME type?  It doesn't seem\n",
       "             * to be part of the websocket stream */\n",
       "            evt.data.type = \"image/png\";\n",
       "\n",
       "            /* Free the memory for the previous frames */\n",
       "            if (fig.imageObj.src) {\n",
       "                (window.URL || window.webkitURL).revokeObjectURL(\n",
       "                    fig.imageObj.src);\n",
       "            }\n",
       "\n",
       "            fig.imageObj.src = (window.URL || window.webkitURL).createObjectURL(\n",
       "                evt.data);\n",
       "            fig.updated_canvas_event();\n",
       "            fig.waiting = false;\n",
       "            return;\n",
       "        }\n",
       "        else if (typeof evt.data === 'string' && evt.data.slice(0, 21) == \"data:image/png;base64\") {\n",
       "            fig.imageObj.src = evt.data;\n",
       "            fig.updated_canvas_event();\n",
       "            fig.waiting = false;\n",
       "            return;\n",
       "        }\n",
       "\n",
       "        var msg = JSON.parse(evt.data);\n",
       "        var msg_type = msg['type'];\n",
       "\n",
       "        // Call the  \"handle_{type}\" callback, which takes\n",
       "        // the figure and JSON message as its only arguments.\n",
       "        try {\n",
       "            var callback = fig[\"handle_\" + msg_type];\n",
       "        } catch (e) {\n",
       "            console.log(\"No handler for the '\" + msg_type + \"' message type: \", msg);\n",
       "            return;\n",
       "        }\n",
       "\n",
       "        if (callback) {\n",
       "            try {\n",
       "                // console.log(\"Handling '\" + msg_type + \"' message: \", msg);\n",
       "                callback(fig, msg);\n",
       "            } catch (e) {\n",
       "                console.log(\"Exception inside the 'handler_\" + msg_type + \"' callback:\", e, e.stack, msg);\n",
       "            }\n",
       "        }\n",
       "    };\n",
       "}\n",
       "\n",
       "// from http://stackoverflow.com/questions/1114465/getting-mouse-location-in-canvas\n",
       "mpl.findpos = function(e) {\n",
       "    //this section is from http://www.quirksmode.org/js/events_properties.html\n",
       "    var targ;\n",
       "    if (!e)\n",
       "        e = window.event;\n",
       "    if (e.target)\n",
       "        targ = e.target;\n",
       "    else if (e.srcElement)\n",
       "        targ = e.srcElement;\n",
       "    if (targ.nodeType == 3) // defeat Safari bug\n",
       "        targ = targ.parentNode;\n",
       "\n",
       "    // jQuery normalizes the pageX and pageY\n",
       "    // pageX,Y are the mouse positions relative to the document\n",
       "    // offset() returns the position of the element relative to the document\n",
       "    var x = e.pageX - $(targ).offset().left;\n",
       "    var y = e.pageY - $(targ).offset().top;\n",
       "\n",
       "    return {\"x\": x, \"y\": y};\n",
       "};\n",
       "\n",
       "/*\n",
       " * return a copy of an object with only non-object keys\n",
       " * we need this to avoid circular references\n",
       " * http://stackoverflow.com/a/24161582/3208463\n",
       " */\n",
       "function simpleKeys (original) {\n",
       "  return Object.keys(original).reduce(function (obj, key) {\n",
       "    if (typeof original[key] !== 'object')\n",
       "        obj[key] = original[key]\n",
       "    return obj;\n",
       "  }, {});\n",
       "}\n",
       "\n",
       "mpl.figure.prototype.mouse_event = function(event, name) {\n",
       "    var canvas_pos = mpl.findpos(event)\n",
       "\n",
       "    if (name === 'button_press')\n",
       "    {\n",
       "        this.canvas.focus();\n",
       "        this.canvas_div.focus();\n",
       "    }\n",
       "\n",
       "    var x = canvas_pos.x;\n",
       "    var y = canvas_pos.y;\n",
       "\n",
       "    this.send_message(name, {x: x, y: y, button: event.button,\n",
       "                             step: event.step,\n",
       "                             guiEvent: simpleKeys(event)});\n",
       "\n",
       "    /* This prevents the web browser from automatically changing to\n",
       "     * the text insertion cursor when the button is pressed.  We want\n",
       "     * to control all of the cursor setting manually through the\n",
       "     * 'cursor' event from matplotlib */\n",
       "    event.preventDefault();\n",
       "    return false;\n",
       "}\n",
       "\n",
       "mpl.figure.prototype._key_event_extra = function(event, name) {\n",
       "    // Handle any extra behaviour associated with a key event\n",
       "}\n",
       "\n",
       "mpl.figure.prototype.key_event = function(event, name) {\n",
       "\n",
       "    // Prevent repeat events\n",
       "    if (name == 'key_press')\n",
       "    {\n",
       "        if (event.which === this._key)\n",
       "            return;\n",
       "        else\n",
       "            this._key = event.which;\n",
       "    }\n",
       "    if (name == 'key_release')\n",
       "        this._key = null;\n",
       "\n",
       "    var value = '';\n",
       "    if (event.ctrlKey && event.which != 17)\n",
       "        value += \"ctrl+\";\n",
       "    if (event.altKey && event.which != 18)\n",
       "        value += \"alt+\";\n",
       "    if (event.shiftKey && event.which != 16)\n",
       "        value += \"shift+\";\n",
       "\n",
       "    value += 'k';\n",
       "    value += event.which.toString();\n",
       "\n",
       "    this._key_event_extra(event, name);\n",
       "\n",
       "    this.send_message(name, {key: value,\n",
       "                             guiEvent: simpleKeys(event)});\n",
       "    return false;\n",
       "}\n",
       "\n",
       "mpl.figure.prototype.toolbar_button_onclick = function(name) {\n",
       "    if (name == 'download') {\n",
       "        this.handle_save(this, null);\n",
       "    } else {\n",
       "        this.send_message(\"toolbar_button\", {name: name});\n",
       "    }\n",
       "};\n",
       "\n",
       "mpl.figure.prototype.toolbar_button_onmouseover = function(tooltip) {\n",
       "    this.message.textContent = tooltip;\n",
       "};\n",
       "mpl.toolbar_items = [[\"Home\", \"Reset original view\", \"fa fa-home icon-home\", \"home\"], [\"Back\", \"Back to  previous view\", \"fa fa-arrow-left icon-arrow-left\", \"back\"], [\"Forward\", \"Forward to next view\", \"fa fa-arrow-right icon-arrow-right\", \"forward\"], [\"\", \"\", \"\", \"\"], [\"Pan\", \"Pan axes with left mouse, zoom with right\", \"fa fa-arrows icon-move\", \"pan\"], [\"Zoom\", \"Zoom to rectangle\", \"fa fa-square-o icon-check-empty\", \"zoom\"], [\"\", \"\", \"\", \"\"], [\"Download\", \"Download plot\", \"fa fa-floppy-o icon-save\", \"download\"]];\n",
       "\n",
       "mpl.extensions = [\"eps\", \"jpeg\", \"pdf\", \"png\", \"ps\", \"raw\", \"svg\", \"tif\"];\n",
       "\n",
       "mpl.default_extension = \"png\";var comm_websocket_adapter = function(comm) {\n",
       "    // Create a \"websocket\"-like object which calls the given IPython comm\n",
       "    // object with the appropriate methods. Currently this is a non binary\n",
       "    // socket, so there is still some room for performance tuning.\n",
       "    var ws = {};\n",
       "\n",
       "    ws.close = function() {\n",
       "        comm.close()\n",
       "    };\n",
       "    ws.send = function(m) {\n",
       "        //console.log('sending', m);\n",
       "        comm.send(m);\n",
       "    };\n",
       "    // Register the callback with on_msg.\n",
       "    comm.on_msg(function(msg) {\n",
       "        //console.log('receiving', msg['content']['data'], msg);\n",
       "        // Pass the mpl event to the overriden (by mpl) onmessage function.\n",
       "        ws.onmessage(msg['content']['data'])\n",
       "    });\n",
       "    return ws;\n",
       "}\n",
       "\n",
       "mpl.mpl_figure_comm = function(comm, msg) {\n",
       "    // This is the function which gets called when the mpl process\n",
       "    // starts-up an IPython Comm through the \"matplotlib\" channel.\n",
       "\n",
       "    var id = msg.content.data.id;\n",
       "    // Get hold of the div created by the display call when the Comm\n",
       "    // socket was opened in Python.\n",
       "    var element = $(\"#\" + id);\n",
       "    var ws_proxy = comm_websocket_adapter(comm)\n",
       "\n",
       "    function ondownload(figure, format) {\n",
       "        window.open(figure.imageObj.src);\n",
       "    }\n",
       "\n",
       "    var fig = new mpl.figure(id, ws_proxy,\n",
       "                           ondownload,\n",
       "                           element.get(0));\n",
       "\n",
       "    // Call onopen now - mpl needs it, as it is assuming we've passed it a real\n",
       "    // web socket which is closed, not our websocket->open comm proxy.\n",
       "    ws_proxy.onopen();\n",
       "\n",
       "    fig.parent_element = element.get(0);\n",
       "    fig.cell_info = mpl.find_output_cell(\"<div id='\" + id + \"'></div>\");\n",
       "    if (!fig.cell_info) {\n",
       "        console.error(\"Failed to find cell for figure\", id, fig);\n",
       "        return;\n",
       "    }\n",
       "\n",
       "    var output_index = fig.cell_info[2]\n",
       "    var cell = fig.cell_info[0];\n",
       "\n",
       "};\n",
       "\n",
       "mpl.figure.prototype.handle_close = function(fig, msg) {\n",
       "    fig.root.unbind('remove')\n",
       "\n",
       "    // Update the output cell to use the data from the current canvas.\n",
       "    fig.push_to_output();\n",
       "    var dataURL = fig.canvas.toDataURL();\n",
       "    // Re-enable the keyboard manager in IPython - without this line, in FF,\n",
       "    // the notebook keyboard shortcuts fail.\n",
       "    IPython.keyboard_manager.enable()\n",
       "    $(fig.parent_element).html('<img src=\"' + dataURL + '\">');\n",
       "    fig.close_ws(fig, msg);\n",
       "}\n",
       "\n",
       "mpl.figure.prototype.close_ws = function(fig, msg){\n",
       "    fig.send_message('closing', msg);\n",
       "    // fig.ws.close()\n",
       "}\n",
       "\n",
       "mpl.figure.prototype.push_to_output = function(remove_interactive) {\n",
       "    // Turn the data on the canvas into data in the output cell.\n",
       "    var dataURL = this.canvas.toDataURL();\n",
       "    this.cell_info[1]['text/html'] = '<img src=\"' + dataURL + '\">';\n",
       "}\n",
       "\n",
       "mpl.figure.prototype.updated_canvas_event = function() {\n",
       "    // Tell IPython that the notebook contents must change.\n",
       "    IPython.notebook.set_dirty(true);\n",
       "    this.send_message(\"ack\", {});\n",
       "    var fig = this;\n",
       "    // Wait a second, then push the new image to the DOM so\n",
       "    // that it is saved nicely (might be nice to debounce this).\n",
       "    setTimeout(function () { fig.push_to_output() }, 1000);\n",
       "}\n",
       "\n",
       "mpl.figure.prototype._init_toolbar = function() {\n",
       "    var fig = this;\n",
       "\n",
       "    var nav_element = $('<div/>')\n",
       "    nav_element.attr('style', 'width: 100%');\n",
       "    this.root.append(nav_element);\n",
       "\n",
       "    // Define a callback function for later on.\n",
       "    function toolbar_event(event) {\n",
       "        return fig.toolbar_button_onclick(event['data']);\n",
       "    }\n",
       "    function toolbar_mouse_event(event) {\n",
       "        return fig.toolbar_button_onmouseover(event['data']);\n",
       "    }\n",
       "\n",
       "    for(var toolbar_ind in mpl.toolbar_items){\n",
       "        var name = mpl.toolbar_items[toolbar_ind][0];\n",
       "        var tooltip = mpl.toolbar_items[toolbar_ind][1];\n",
       "        var image = mpl.toolbar_items[toolbar_ind][2];\n",
       "        var method_name = mpl.toolbar_items[toolbar_ind][3];\n",
       "\n",
       "        if (!name) { continue; };\n",
       "\n",
       "        var button = $('<button class=\"btn btn-default\" href=\"#\" title=\"' + name + '\"><i class=\"fa ' + image + ' fa-lg\"></i></button>');\n",
       "        button.click(method_name, toolbar_event);\n",
       "        button.mouseover(tooltip, toolbar_mouse_event);\n",
       "        nav_element.append(button);\n",
       "    }\n",
       "\n",
       "    // Add the status bar.\n",
       "    var status_bar = $('<span class=\"mpl-message\" style=\"text-align:right; float: right;\"/>');\n",
       "    nav_element.append(status_bar);\n",
       "    this.message = status_bar[0];\n",
       "\n",
       "    // Add the close button to the window.\n",
       "    var buttongrp = $('<div class=\"btn-group inline pull-right\"></div>');\n",
       "    var button = $('<button class=\"btn btn-mini btn-primary\" href=\"#\" title=\"Stop Interaction\"><i class=\"fa fa-power-off icon-remove icon-large\"></i></button>');\n",
       "    button.click(function (evt) { fig.handle_close(fig, {}); } );\n",
       "    button.mouseover('Stop Interaction', toolbar_mouse_event);\n",
       "    buttongrp.append(button);\n",
       "    var titlebar = this.root.find($('.ui-dialog-titlebar'));\n",
       "    titlebar.prepend(buttongrp);\n",
       "}\n",
       "\n",
       "mpl.figure.prototype._root_extra_style = function(el){\n",
       "    var fig = this\n",
       "    el.on(\"remove\", function(){\n",
       "\tfig.close_ws(fig, {});\n",
       "    });\n",
       "}\n",
       "\n",
       "mpl.figure.prototype._canvas_extra_style = function(el){\n",
       "    // this is important to make the div 'focusable\n",
       "    el.attr('tabindex', 0)\n",
       "    // reach out to IPython and tell the keyboard manager to turn it's self\n",
       "    // off when our div gets focus\n",
       "\n",
       "    // location in version 3\n",
       "    if (IPython.notebook.keyboard_manager) {\n",
       "        IPython.notebook.keyboard_manager.register_events(el);\n",
       "    }\n",
       "    else {\n",
       "        // location in version 2\n",
       "        IPython.keyboard_manager.register_events(el);\n",
       "    }\n",
       "\n",
       "}\n",
       "\n",
       "mpl.figure.prototype._key_event_extra = function(event, name) {\n",
       "    var manager = IPython.notebook.keyboard_manager;\n",
       "    if (!manager)\n",
       "        manager = IPython.keyboard_manager;\n",
       "\n",
       "    // Check for shift+enter\n",
       "    if (event.shiftKey && event.which == 13) {\n",
       "        this.canvas_div.blur();\n",
       "        event.shiftKey = false;\n",
       "        // Send a \"J\" for go to next cell\n",
       "        event.which = 74;\n",
       "        event.keyCode = 74;\n",
       "        manager.command_mode();\n",
       "        manager.handle_keydown(event);\n",
       "    }\n",
       "}\n",
       "\n",
       "mpl.figure.prototype.handle_save = function(fig, msg) {\n",
       "    fig.ondownload(fig, null);\n",
       "}\n",
       "\n",
       "\n",
       "mpl.find_output_cell = function(html_output) {\n",
       "    // Return the cell and output element which can be found *uniquely* in the notebook.\n",
       "    // Note - this is a bit hacky, but it is done because the \"notebook_saving.Notebook\"\n",
       "    // IPython event is triggered only after the cells have been serialised, which for\n",
       "    // our purposes (turning an active figure into a static one), is too late.\n",
       "    var cells = IPython.notebook.get_cells();\n",
       "    var ncells = cells.length;\n",
       "    for (var i=0; i<ncells; i++) {\n",
       "        var cell = cells[i];\n",
       "        if (cell.cell_type === 'code'){\n",
       "            for (var j=0; j<cell.output_area.outputs.length; j++) {\n",
       "                var data = cell.output_area.outputs[j];\n",
       "                if (data.data) {\n",
       "                    // IPython >= 3 moved mimebundle to data attribute of output\n",
       "                    data = data.data;\n",
       "                }\n",
       "                if (data['text/html'] == html_output) {\n",
       "                    return [cell, data, j];\n",
       "                }\n",
       "            }\n",
       "        }\n",
       "    }\n",
       "}\n",
       "\n",
       "// Register the function which deals with the matplotlib target/channel.\n",
       "// The kernel may be null if the page has been refreshed.\n",
       "if (IPython.notebook.kernel != null) {\n",
       "    IPython.notebook.kernel.comm_manager.register_target('matplotlib', mpl.mpl_figure_comm);\n",
       "}\n"
      ],
      "text/plain": [
       "<IPython.core.display.Javascript object>"
      ]
     },
     "metadata": {},
     "output_type": "display_data"
    },
    {
     "data": {
      "text/html": [
       "<img src=\"data:image/png;base64,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\">"
      ],
      "text/plain": [
       "<IPython.core.display.HTML object>"
      ]
     },
     "metadata": {},
     "output_type": "display_data"
    },
    {
     "name": "stdout",
     "output_type": "stream",
     "text": [
      "Let's play Battleship!\n",
      "\n",
      "The size of the grid is 10x10. Enter your target location\n",
      "as x, y.\n"
     ]
    },
    {
     "data": {
      "application/vnd.jupyter.widget-view+json": {
       "model_id": "05888eed58074645b9194a2ada545272",
       "version_major": 2,
       "version_minor": 0
      },
      "text/plain": [
       "A Jupyter Widget"
      ]
     },
     "metadata": {},
     "output_type": "display_data"
    }
   ],
   "source": [
    "%matplotlib notebook\n",
    "\n",
    "from ipywidgets import widgets\n",
    "from IPython.display import display\n",
    "import numpy as np\n",
    "import matplotlib.pyplot as plt\n",
    "import random\n",
    "\n",
    "# Create a 2d numpy array (simular to a python list but much faster.)\n",
    "battlefield = np.zeros((10, 10))\n",
    "\n",
    "def random_coord(battlefield):\n",
    "    x = random.randint(0, battlefield.shape[0]-1)\n",
    "    y = random.randint(0, battlefield.shape[1]-1)\n",
    "    return x, y\n",
    "\n",
    "ship_location = random_coord(battlefield)\n",
    "\n",
    "fig = plt.figure()\n",
    "bf = plt.imshow(battlefield, vmin=0, vmax=2)\n",
    "plt.show()\n",
    "\n",
    "print(\"\"\"Let's play Battleship!\n",
    "\n",
    "The size of the grid is 10x10. Enter your target location\n",
    "as x, y.\"\"\")\n",
    "coords = widgets.Text()\n",
    "display(coords)\n",
    "\n",
    "def update_map(sender):\n",
    "    x, y = [int(x) for x in sender.value.split(\", \")]\n",
    "    sender.value = \"\"\n",
    "    battlefield = bf.get_array()\n",
    "    if ship_location == (x, y):\n",
    "        battlefield[x, y] = 2\n",
    "        print(\"Congratulations! You sunk the battleship!\")\n",
    "    else:\n",
    "        battlefield[x, y] = 1\n",
    "    bf.set_array(battlefield)\n",
    "    fig.canvas.draw()\n",
    "\n",
    "coords.on_submit(update_map)"
   ]
  },
  {
   "cell_type": "markdown",
   "metadata": {
    "slideshow": {
     "slide_type": "slide"
    }
   },
   "source": [
    "## Handling errors in input\n",
    "\n",
    "I am quite sure that during the course of the game above you encountered some run-time errors. Perhaps you specified an index that was out of bounds, or perhaps you provided text as input when a number was expected. In real life, users make mistakes all the time. For this reason it is important to understand where errors may arise in a program and add code to catch these errors and make the program react in some sensible way. You can already see that errors can sometimes be very confusing to the user. Good error handling can be used to help the user understand what mistake was made and suggest a solution. In some cases you can even guess what was intended and correct automatically."
   ]
  },
  {
   "cell_type": "markdown",
   "metadata": {
    "slideshow": {
     "slide_type": "subslide"
    }
   },
   "source": [
    "Let's consider a simple example where we make a reference out of bounds in a list:"
   ]
  },
  {
   "cell_type": "code",
   "execution_count": 6,
   "metadata": {
    "slideshow": {
     "slide_type": "fragment"
    }
   },
   "outputs": [
    {
     "ename": "IndexError",
     "evalue": "tuple index out of range",
     "output_type": "error",
     "traceback": [
      "\u001b[0;31m---------------------------------------------------------------------------\u001b[0m",
      "\u001b[0;31mIndexError\u001b[0m                                Traceback (most recent call last)",
      "\u001b[0;32m<ipython-input-6-6a516db87396>\u001b[0m in \u001b[0;36m<module>\u001b[0;34m()\u001b[0m\n\u001b[1;32m      1\u001b[0m \u001b[0mplaces_i_would_rather_be\u001b[0m \u001b[0;34m=\u001b[0m \u001b[0;34m(\u001b[0m\u001b[0;34m\"pub\"\u001b[0m\u001b[0;34m,\u001b[0m \u001b[0;34m\"Fernanda de Noronha\"\u001b[0m\u001b[0;34m,\u001b[0m \u001b[0;34m\"Dolomites\"\u001b[0m\u001b[0;34m,\u001b[0m \u001b[0;34m\"anywhere but here\"\u001b[0m\u001b[0;34m)\u001b[0m\u001b[0;34m\u001b[0m\u001b[0m\n\u001b[1;32m      2\u001b[0m \u001b[0moption\u001b[0m \u001b[0;34m=\u001b[0m \u001b[0;36m4\u001b[0m \u001b[0;31m# lets assume that the user has given the input option 4\u001b[0m\u001b[0;34m\u001b[0m\u001b[0m\n\u001b[0;32m----> 3\u001b[0;31m \u001b[0mprint\u001b[0m\u001b[0;34m(\u001b[0m\u001b[0mplaces_i_would_rather_be\u001b[0m\u001b[0;34m[\u001b[0m\u001b[0moption\u001b[0m\u001b[0;34m]\u001b[0m\u001b[0;34m)\u001b[0m\u001b[0;34m\u001b[0m\u001b[0m\n\u001b[0m",
      "\u001b[0;31mIndexError\u001b[0m: tuple index out of range"
     ]
    }
   ],
   "source": [
    "places_i_would_rather_be = (\"pub\", \"Fernanda de Noronha\", \"Dolomites\", \"anywhere but here\")\n",
    "option = 4 # lets assume that the user has given the input option 4\n",
    "print(places_i_would_rather_be[option])"
   ]
  },
  {
   "cell_type": "markdown",
   "metadata": {
    "slideshow": {
     "slide_type": "fragment"
    }
   },
   "source": [
    "Here we can see we have an **IndexError** (i.e. a reference out of bounds) with the clarification that it is the **tuple index out of range**."
   ]
  },
  {
   "cell_type": "markdown",
   "metadata": {
    "slideshow": {
     "slide_type": "subslide"
    }
   },
   "source": [
    "The general way we deal with this issue in Python (and in many other programming languages) is to try to do what we indend to, and if it fails, we recover from the error. This is implemented using the *try-except* block:\n",
    "```\n",
    "try:\n",
    "    <statements we indend to do>\n",
    "except:\n",
    "    <statements for handling errors>\n",
    "```"
   ]
  },
  {
   "cell_type": "markdown",
   "metadata": {
    "slideshow": {
     "slide_type": "subslide"
    }
   },
   "source": [
    "If something goes wrong in the **try** block, Python raises an **exception** and the execution jumps immediately to the **except** block. Let's try an example:"
   ]
  },
  {
   "cell_type": "code",
   "execution_count": 2,
   "metadata": {
    "slideshow": {
     "slide_type": "subslide"
    }
   },
   "outputs": [
    {
     "name": "stdout",
     "output_type": "stream",
     "text": [
      "Where would you rather be (specify option 0-3)?\n",
      "0. Pub\n",
      "1. Fernanda de Noronha\n",
      "2. Dolomites\n",
      "3. Anywhere but here\n",
      "4\n",
      "ERROR: You need to specify an integer\n"
     ]
    },
    {
     "ename": "SystemExit",
     "evalue": "1",
     "output_type": "error",
     "traceback": [
      "An exception has occurred, use %tb to see the full traceback.\n",
      "\u001b[0;31mSystemExit\u001b[0m\u001b[0;31m:\u001b[0m 1\n"
     ]
    },
    {
     "name": "stderr",
     "output_type": "stream",
     "text": [
      "/home/nbuser/anaconda3_410/lib/python3.5/site-packages/IPython/core/interactiveshell.py:2870: UserWarning: To exit: use 'exit', 'quit', or Ctrl-D.\n",
      "  warn(\"To exit: use 'exit', 'quit', or Ctrl-D.\", stacklevel=1)\n"
     ]
    }
   ],
   "source": [
    "import sys\n",
    "places_i_would_rather_be = (\"Pub\", \"Fernanda de Noronha\", \"Dolomites\", \"Anywhere but here\")\n",
    "glib_reply = (\"Don't drink and code.\", \"Rubbish broadband - couldn't stream Lost.\", \n",
    "                \"My first ski lesson was watching YouTube (don't try).\", \"Ah don't go...your great craic.\")\n",
    "\n",
    "msg = \"\"\"Where would you rather be (specify option 0-3)?\n",
    "0. %s\n",
    "1. %s\n",
    "2. %s\n",
    "3. %s\n",
    "\"\"\" % places_i_would_rather_be\n",
    "\n",
    "try:\n",
    "    option = int(input(msg))\n",
    "    print(glib_reply[option])\n",
    "except:\n",
    "    print(\"ERROR: You need to specify an integer\")\n",
    "    sys.exit(1)"
   ]
  },
  {
   "cell_type": "markdown",
   "metadata": {
    "slideshow": {
     "slide_type": "subslide"
    }
   },
   "source": [
    "In the above example the expected input is an integer. If the user types a string, e.g. \"Pub\", then a **ValueError** is raised, and the code except block is executed.\n",
    "\n",
    "However, what happens if you type 4, or 100? In that case it is a valid integer, but then it is used as an index to the tuple *glib\\_reply* it clearly references an element that does not exist. This results in an **IndexError**. But the error message we get back is still *ERROR: You need to specify an integer*. So, how can we make our error handling more intellegent?"
   ]
  },
  {
   "cell_type": "markdown",
   "metadata": {
    "slideshow": {
     "slide_type": "subslide"
    }
   },
   "source": [
    "Well, there are two solutions here. We can either break up our *try* block so we try the integer conversion and the glib reply separately, i.e.:"
   ]
  },
  {
   "cell_type": "code",
   "execution_count": null,
   "metadata": {
    "collapsed": true,
    "slideshow": {
     "slide_type": "fragment"
    }
   },
   "outputs": [],
   "source": [
    "try:\n",
    "    option = int(input(msg))\n",
    "except:\n",
    "    print(\"ERROR: You need to specify an integer\")\n",
    "    sys.exit(1)\n",
    "try:\n",
    "    print(glib_reply[option])\n",
    "except:\n",
    "    print(\"ERROR: You need to specify an integer between in the range 0-3.\")\n",
    "    sys.exit(1)"
   ]
  },
  {
   "cell_type": "markdown",
   "metadata": {
    "slideshow": {
     "slide_type": "subslide"
    }
   },
   "source": [
    "However, an even better solution is to create an *except* block that is specialised for a specific error type, i.e.:"
   ]
  },
  {
   "cell_type": "code",
   "execution_count": null,
   "metadata": {
    "collapsed": true,
    "slideshow": {
     "slide_type": "fragment"
    }
   },
   "outputs": [],
   "source": [
    "try:\n",
    "    option = int(input(msg))\n",
    "    print(glib_reply[option])\n",
    "except ValueError:\n",
    "    print(\"ERROR: You need to specify an integer\")\n",
    "    sys.exit(1)\n",
    "except IndexError:\n",
    "    print(\"ERROR: You need to specify an integer between in the range 0-3.\")\n",
    "    sys.exit(1)"
   ]
  },
  {
   "cell_type": "markdown",
   "metadata": {
    "slideshow": {
     "slide_type": "subslide"
    }
   },
   "source": [
    "This is still not perfect. What happens if you enter -1? Recall that negative indices traverse the list from the end to the beginning. Also, it is a bit messy that we have to print out the message and then call sys.exit to abort the program. We can deal with this issue more elegently if we **raise** our own error:"
   ]
  },
  {
   "cell_type": "code",
   "execution_count": 1,
   "metadata": {
    "slideshow": {
     "slide_type": "fragment"
    }
   },
   "outputs": [
    {
     "ename": "NameError",
     "evalue": "name 'msg' is not defined",
     "output_type": "error",
     "traceback": [
      "\u001b[0;31m---------------------------------------------------------------------------\u001b[0m",
      "\u001b[0;31mNameError\u001b[0m                                 Traceback (most recent call last)",
      "\u001b[0;32m<ipython-input-1-544851e5f5e1>\u001b[0m in \u001b[0;36m<module>\u001b[0;34m()\u001b[0m\n\u001b[1;32m      1\u001b[0m \u001b[0;32mtry\u001b[0m\u001b[0;34m:\u001b[0m\u001b[0;34m\u001b[0m\u001b[0m\n\u001b[0;32m----> 2\u001b[0;31m     \u001b[0moption\u001b[0m \u001b[0;34m=\u001b[0m \u001b[0mint\u001b[0m\u001b[0;34m(\u001b[0m\u001b[0minput\u001b[0m\u001b[0;34m(\u001b[0m\u001b[0mmsg\u001b[0m\u001b[0;34m)\u001b[0m\u001b[0;34m)\u001b[0m\u001b[0;34m\u001b[0m\u001b[0m\n\u001b[0m\u001b[1;32m      3\u001b[0m     \u001b[0;32mif\u001b[0m \u001b[0;32mnot\u001b[0m \u001b[0;34m(\u001b[0m\u001b[0;36m0\u001b[0m \u001b[0;34m<=\u001b[0m \u001b[0moption\u001b[0m \u001b[0;34m<=\u001b[0m \u001b[0;36m3\u001b[0m\u001b[0;34m)\u001b[0m\u001b[0;34m:\u001b[0m\u001b[0;34m\u001b[0m\u001b[0m\n\u001b[1;32m      4\u001b[0m         \u001b[0;32mraise\u001b[0m \u001b[0mValueError\u001b[0m\u001b[0;34m\u001b[0m\u001b[0m\n\u001b[1;32m      5\u001b[0m     \u001b[0mprint\u001b[0m\u001b[0;34m(\u001b[0m\u001b[0mglib_reply\u001b[0m\u001b[0;34m[\u001b[0m\u001b[0moption\u001b[0m\u001b[0;34m]\u001b[0m\u001b[0;34m)\u001b[0m\u001b[0;34m\u001b[0m\u001b[0m\n",
      "\u001b[0;31mNameError\u001b[0m: name 'msg' is not defined"
     ]
    }
   ],
   "source": [
    "try:\n",
    "    option = int(input(msg))\n",
    "    if not (0 <= option <= 3):\n",
    "        raise ValueError\n",
    "    print(glib_reply[option])\n",
    "except ValueError:\n",
    "    raise ValueError(\"You need to specify an integer value.\")\n",
    "except IndexError:\n",
    "    raise IndexError(\"You need to specify an integer between in the range 0-3.\")"
   ]
  },
  {
   "cell_type": "markdown",
   "metadata": {
    "slideshow": {
     "slide_type": "slide"
    }
   },
   "source": [
    "## <span style=\"color:blue\">Exercise 4.4: Use exceptions</span>\n",
    "Extend the program from Exercise 1 with a try-except block to handle the potential error that the user enters nothing (or invalid data such as a letter) for the Fahrenheit temperature."
   ]
  },
  {
   "cell_type": "code",
   "execution_count": 1,
   "metadata": {
    "slideshow": {
     "slide_type": "subslide"
    }
   },
   "outputs": [
    {
     "ename": "SyntaxError",
     "evalue": "invalid syntax (<ipython-input-1-6ae25c91bb6c>, line 10)",
     "output_type": "error",
     "traceback": [
      "\u001b[0;36m  File \u001b[0;32m\"<ipython-input-1-6ae25c91bb6c>\"\u001b[0;36m, line \u001b[0;32m10\u001b[0m\n\u001b[0;31m    except\u001b[0m\n\u001b[0m          ^\u001b[0m\n\u001b[0;31mSyntaxError\u001b[0m\u001b[0;31m:\u001b[0m invalid syntax\n"
     ]
    }
   ],
   "source": [
    "from ipywidgets import widgets\n",
    "from IPython.display import display\n",
    "\n",
    "def FtoC(sender):\n",
    "    try:\n",
    "        option = int(sender.value)\n",
    "        if option <= -460:\n",
    "            print(\"IndexError: Enter a value greater than -460 degrees Fahrenheit\")\n",
    "  \n",
    "    except\n",
    "\n",
    "      print(F, \"degrees Fahrenheit is \", (5/9)*(F-32), \"degrees Celsius\")\n",
    "        \n",
    "widget_FtoC = widgets.Text()\n",
    "widget_FtoC.on_submit(FtoC) \n",
    "display(widget_FtoC)"
   ]
  },
  {
   "cell_type": "markdown",
   "metadata": {
    "slideshow": {
     "slide_type": "slide"
    }
   },
   "source": [
    "## <span style=\"color:blue\">Exercise 4.5: Make the program from Exercise 4.2 safer</span>\n",
    "Extend the program from Exercise 4.2 to include exception handling such that missing (or invalid) values for *t* and *v0* are detected."
   ]
  },
  {
   "cell_type": "code",
   "execution_count": null,
   "metadata": {
    "collapsed": true,
    "slideshow": {
     "slide_type": "subslide"
    }
   },
   "outputs": [],
   "source": []
  },
  {
   "cell_type": "markdown",
   "metadata": {
    "slideshow": {
     "slide_type": "slide"
    }
   },
   "source": [
    "## <span style=\"color:blue\">Exercise 4.6: Test more in the program</span>\n",
    "Test if the *t* value read in the program from the previous exercise lies between $0$ and ${2v_0}/{g}$. If not, raise a *ValueError* exception in the *if* test on legal *t* values in the program from the previous exercise. Include the legal interval for *t* in the exception message."
   ]
  },
  {
   "cell_type": "code",
   "execution_count": null,
   "metadata": {
    "collapsed": true,
    "slideshow": {
     "slide_type": "subslide"
    }
   },
   "outputs": [],
   "source": []
  },
  {
   "cell_type": "markdown",
   "metadata": {
    "slideshow": {
     "slide_type": "slide"
    }
   },
   "source": [
    "## <span style=\"color:blue\">Exercise 4.7: Compute the distance it takes to stop a car</span>\n",
    "A car driver, driving at velocity $v_0$, suddenly puts on the brake. What braking distance $d$ is needed to stop the car? One can derive, from basic physics, that</br>\n",
    "$d = 0.5\\frac{v_0^2}{\\mu g}$</br>\n",
    "Make a program for computing $d$ using the above formula when the initial car velocity $v_0$ and the friction coefficient $\\mu$ are provided via the text widget. Run the\n",
    "program for two cases: $v_0$ = 120 and $v_0$ = 50 km/h, both with $\\mu$ = 0.3 ($\\mu$ is dimensionless). (Remember to convert the velocity from km/h to m/s before inserting the value in the formula!)"
   ]
  },
  {
   "cell_type": "code",
   "execution_count": 20,
   "metadata": {
    "slideshow": {
     "slide_type": "subslide"
    }
   },
   "outputs": [
    {
     "data": {
      "application/vnd.jupyter.widget-view+json": {
       "model_id": "581835f57cea45ee9a492be3305bc0fa",
       "version_major": 2,
       "version_minor": 0
      },
      "text/plain": [
       "A Jupyter Widget"
      ]
     },
     "metadata": {},
     "output_type": "display_data"
    },
    {
     "name": "stdout",
     "output_type": "stream",
     "text": [
      "distance needed to brake is 188.771813  metres\n",
      "distance needed to brake is 32.772943  metres\n"
     ]
    }
   ],
   "source": [
    "from ipywidgets import widgets\n",
    "from IPython.display import display\n",
    "\n",
    "g = 9.81\n",
    "\n",
    "def d_v0_u(sender):\n",
    "    txt_input = sender.value\n",
    "    v0, u = txt_input.split(\",\")\n",
    "    v0 = float(v0)\n",
    "    u = float(u)\n",
    "    print(\"distance needed to brake is %f \" % ((0.5*v0**2)/(u*g)), \"metres\")\n",
    "    \n",
    "widget_d_v0_u = widgets.Text()\n",
    "widget_d_v0_u.on_submit(d_v0_u) \n",
    "display(widget_d_v0_u)\n",
    "\n",
    "# 150km/h is 33.33333 m/s\n",
    "# 50 km/h is 13.8889 m/s \n"
   ]
  },
  {
   "cell_type": "code",
   "execution_count": null,
   "metadata": {
    "collapsed": true
   },
   "outputs": [],
   "source": []
  }
 ],
 "metadata": {
  "celltoolbar": "Slideshow",
  "kernelspec": {
   "display_name": "Python 3",
   "language": "python",
   "name": "python3"
  },
  "language_info": {
   "codemirror_mode": {
    "name": "ipython",
    "version": 3
   },
   "file_extension": ".py",
   "mimetype": "text/x-python",
   "name": "python",
   "nbconvert_exporter": "python",
   "pygments_lexer": "ipython3",
   "version": "3.5.1"
  }
 },
 "nbformat": 4,
 "nbformat_minor": 1
}
